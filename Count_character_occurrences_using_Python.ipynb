{
  "nbformat": 4,
  "nbformat_minor": 0,
  "metadata": {
    "colab": {
      "name": "Count character occurrences using Python",
      "provenance": [],
      "authorship_tag": "ABX9TyOR2iUHqRaThXCXguwzNQoF",
      "include_colab_link": true
    },
    "kernelspec": {
      "name": "python3",
      "display_name": "Python 3"
    },
    "language_info": {
      "name": "python"
    }
  },
  "cells": [
    {
      "cell_type": "markdown",
      "metadata": {
        "id": "view-in-github",
        "colab_type": "text"
      },
      "source": [
        "<a href=\"https://colab.research.google.com/github/nikunjsonule/Python-Code-Challenge/blob/main/Count_character_occurrences_using_Python.ipynb\" target=\"_parent\"><img src=\"https://colab.research.google.com/assets/colab-badge.svg\" alt=\"Open In Colab\"/></a>"
      ]
    },
    {
      "cell_type": "markdown",
      "source": [
        "# Count Character Occurences using Python"
      ],
      "metadata": {
        "id": "5dWBIBBp2fUz"
      }
    },
    {
      "cell_type": "code",
      "source": [
        "def count_characters(s):\n",
        "  count = {}\n",
        "  for i in s:\n",
        "    if i in count:\n",
        "      count[i]  +=  1\n",
        "    else:\n",
        "      count[i] = 1\n",
        "  print(count)\n",
        "\n",
        "word = input(\"Enter your String: \")\n",
        "print(count_characters(word))"
      ],
      "metadata": {
        "id": "GjA_XcFizwHQ",
        "colab": {
          "base_uri": "https://localhost:8080/"
        },
        "outputId": "5fe72def-e4eb-4344-a4b1-eef44e6cb777"
      },
      "execution_count": null,
      "outputs": [
        {
          "output_type": "stream",
          "name": "stdout",
          "text": [
            "Enter your String: Welcome to Mars\n",
            "{'W': 1, 'e': 2, 'l': 1, 'c': 1, 'o': 2, 'm': 1, ' ': 2, 't': 1, 'M': 1, 'a': 1, 'r': 1, 's': 1}\n",
            "None\n"
          ]
        }
      ]
    },
    {
      "cell_type": "code",
      "source": [],
      "metadata": {
        "id": "UV0pSKqV3OTr"
      },
      "execution_count": null,
      "outputs": []
    }
  ]
}