{
  "nbformat": 4,
  "nbformat_minor": 0,
  "metadata": {
    "colab": {
      "name": "Line continuation Characters in Python.ipynb",
      "provenance": [],
      "collapsed_sections": [],
      "authorship_tag": "ABX9TyNKm49BF+JHpEHIWzOyWNJV",
      "include_colab_link": true
    },
    "kernelspec": {
      "name": "python3",
      "display_name": "Python 3"
    },
    "language_info": {
      "name": "python"
    }
  },
  "cells": [
    {
      "cell_type": "markdown",
      "metadata": {
        "id": "view-in-github",
        "colab_type": "text"
      },
      "source": [
        "<a href=\"https://colab.research.google.com/github/nikunjsonule/Python-Code-Challenge/blob/main/Line_continuation_Characters_in_Python.ipynb\" target=\"_parent\"><img src=\"https://colab.research.google.com/assets/colab-badge.svg\" alt=\"Open In Colab\"/></a>"
      ]
    },
    {
      "cell_type": "code",
      "execution_count": null,
      "metadata": {
        "colab": {
          "base_uri": "https://localhost:8080/"
        },
        "id": "6_i0Gqb88elZ",
        "outputId": "20cac46e-e2ec-4f0d-ecd8-e75c0bd2def4"
      },
      "outputs": [
        {
          "output_type": "stream",
          "name": "stdout",
          "text": [
            "Python is open source, interpreted, high level language and it is one of the best language used by data scientist for various data science projects/application.\n"
          ]
        }
      ],
      "source": [
        "print(\"Python is open source, interpreted, high level language and it is one of the best language used by data scientist for various data science projects/application.\")"
      ]
    },
    {
      "cell_type": "code",
      "source": [
        "print(\"Python is open source, interpreted, high level language and\n",
        " it is one of the best language used by data scientist for various data science projects/application.\")"
      ],
      "metadata": {
        "colab": {
          "base_uri": "https://localhost:8080/",
          "height": 135
        },
        "id": "ez7iUHpE9X7d",
        "outputId": "0ec794d3-15ed-4505-8127-261ae5c68740"
      },
      "execution_count": null,
      "outputs": [
        {
          "output_type": "error",
          "ename": "SyntaxError",
          "evalue": "ignored",
          "traceback": [
            "\u001b[0;36m  File \u001b[0;32m\"<ipython-input-3-cb73cfc9ef42>\"\u001b[0;36m, line \u001b[0;32m1\u001b[0m\n\u001b[0;31m    print(\"Python is open source, interpreted, high level language and\u001b[0m\n\u001b[0m                                                                      ^\u001b[0m\n\u001b[0;31mSyntaxError\u001b[0m\u001b[0;31m:\u001b[0m EOL while scanning string literal\n"
          ]
        }
      ]
    },
    {
      "cell_type": "code",
      "source": [
        "# In python, a backslash (\\) is a continuation character\n",
        "# while coding don't keep space before and after \\\n",
        "print(\"Python is open source, interpreted, high level language and\\\n",
        "it is one of the best language used by data scientist for various data science projects/application\")"
      ],
      "metadata": {
        "colab": {
          "base_uri": "https://localhost:8080/"
        },
        "id": "26Xg7q-q9zL2",
        "outputId": "1bf67047-b6bc-4e91-9628-ae0225e1427f"
      },
      "execution_count": null,
      "outputs": [
        {
          "output_type": "stream",
          "name": "stdout",
          "text": [
            "Python is open source, interpreted, high level language andit is one of the best language used by data scientist for various data science projects/application\n"
          ]
        }
      ]
    },
    {
      "cell_type": "code",
      "source": [],
      "metadata": {
        "id": "Egi02UGx-QEc"
      },
      "execution_count": null,
      "outputs": []
    }
  ]
}