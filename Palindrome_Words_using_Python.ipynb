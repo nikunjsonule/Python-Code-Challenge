{
  "nbformat": 4,
  "nbformat_minor": 0,
  "metadata": {
    "colab": {
      "name": "Palindrome Words using Python",
      "provenance": [],
      "authorship_tag": "ABX9TyPHz0r0Ov/N55aFLQBSielq",
      "include_colab_link": true
    },
    "kernelspec": {
      "name": "python3",
      "display_name": "Python 3"
    },
    "language_info": {
      "name": "python"
    }
  },
  "cells": [
    {
      "cell_type": "markdown",
      "metadata": {
        "id": "view-in-github",
        "colab_type": "text"
      },
      "source": [
        "<a href=\"https://colab.research.google.com/github/nikunjsonule/Python-Code-Challenge/blob/main/Palindrome_Words_using_Python.ipynb\" target=\"_parent\"><img src=\"https://colab.research.google.com/assets/colab-badge.svg\" alt=\"Open In Colab\"/></a>"
      ]
    },
    {
      "cell_type": "markdown",
      "source": [
        "\n",
        "\n",
        "# Palindrome Words using Python\n"
      ],
      "metadata": {
        "id": "_hLfHSJ3-69t"
      }
    },
    {
      "cell_type": "code",
      "source": [
        "def palindrome(sentence):\n",
        "  for i in (\" , . ' ? / > < } { \"):\n",
        "    sentence = sentence.replace(i, \" \")\n",
        "  palindrome = [ ]\n",
        "  words = sentence.split(' ')\n",
        "  for word in words:\n",
        "    word = word.lower()\n",
        "    if word == word[::-1]:\n",
        "      palindrome.append(word)\n",
        "  return palindrome\n",
        "  \n",
        "sentence = input(\"Enter a sentence : \")\n",
        "print(palindrome(sentence))"
      ],
      "metadata": {
        "id": "GjA_XcFizwHQ",
        "colab": {
          "base_uri": "https://localhost:8080/"
        },
        "outputId": "dd21aa3a-75d8-4b6b-e5bc-a334d597c554"
      },
      "execution_count": null,
      "outputs": [
        {
          "output_type": "stream",
          "name": "stdout",
          "text": [
            "Enter a sentence : Mom support me alot lol\n",
            "['mom', 'lol']\n"
          ]
        }
      ]
    },
    {
      "cell_type": "markdown",
      "source": [
        "## Case -2 "
      ],
      "metadata": {
        "id": "kZRgVCVn-YQU"
      }
    },
    {
      "cell_type": "code",
      "source": [
        "s = \"001100\"\n",
        "\n",
        "if s == s[::-1]:\n",
        "    print(\"palindrome string\")\n",
        "else:\n",
        "    print(\"Not a palindrome string.\")"
      ],
      "metadata": {
        "colab": {
          "base_uri": "https://localhost:8080/"
        },
        "id": "zNvyakxX-Qlu",
        "outputId": "21180376-53a7-44d1-f509-f93d7d5ae5e0"
      },
      "execution_count": null,
      "outputs": [
        {
          "output_type": "stream",
          "name": "stdout",
          "text": [
            "palindrome string\n"
          ]
        }
      ]
    },
    {
      "cell_type": "markdown",
      "source": [
        "## Case - 3"
      ],
      "metadata": {
        "id": "VMNS7ZfZ-iFP"
      }
    },
    {
      "cell_type": "code",
      "source": [
        "p = list(input())\n",
        "for i in range(len(p)):\n",
        "    if p[i] == p[len(p)-1-i]:\n",
        "        continue\n",
        "    else:\n",
        "         print(\"NOT PALINDROME\")\n",
        "         break\n",
        "else:\n",
        "    print(\"PALINDROME\")"
      ],
      "metadata": {
        "colab": {
          "base_uri": "https://localhost:8080/"
        },
        "id": "6WABAfuY-djd",
        "outputId": "44af4630-fac2-429e-c8c3-6a759882e76a"
      },
      "execution_count": null,
      "outputs": [
        {
          "output_type": "stream",
          "name": "stdout",
          "text": [
            "radar\n",
            "PALINDROME\n"
          ]
        }
      ]
    }
  ]
}